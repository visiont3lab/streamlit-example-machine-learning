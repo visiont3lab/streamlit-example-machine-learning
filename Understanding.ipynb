{
  "nbformat": 4,
  "nbformat_minor": 0,
  "metadata": {
    "colab": {
      "name": "Understanding.ipynb",
      "provenance": [],
      "authorship_tag": "ABX9TyPRXqYt9OmweFKkf1tGhn5R",
      "include_colab_link": true
    },
    "kernelspec": {
      "name": "python3",
      "display_name": "Python 3"
    },
    "language_info": {
      "name": "python"
    }
  },
  "cells": [
    {
      "cell_type": "markdown",
      "metadata": {
        "id": "view-in-github",
        "colab_type": "text"
      },
      "source": [
        "<a href=\"https://colab.research.google.com/github/visiont3lab/streamlit-example-machine-learning/blob/main/Understanding.ipynb\" target=\"_parent\"><img src=\"https://colab.research.google.com/assets/colab-badge.svg\" alt=\"Open In Colab\"/></a>"
      ]
    },
    {
      "cell_type": "code",
      "source": [
        "import pandas as pd\n",
        "import numpy as np\n",
        "from sklearn.preprocessing import StandardScaler\n",
        "from sklearn.model_selection import train_test_split\n",
        "from sklearn.linear_model import LinearRegression\n",
        "from sklearn.metrics import mean_squared_error  # MSE\n",
        "from sklearn.pipeline import Pipeline\n",
        "import plotly.graph_objects as go"
      ],
      "metadata": {
        "id": "ELr9bI02llzK"
      },
      "execution_count": 11,
      "outputs": []
    },
    {
      "cell_type": "code",
      "source": [
        "# Create a class to select numerical or categorical columns \n",
        "from sklearn.base import BaseEstimator, TransformerMixin\n",
        "from sklearn.model_selection import GridSearchCV, RandomizedSearchCV\n",
        "from sklearn.impute import SimpleImputer \n",
        "import pandas as pd\n",
        "from sklearn.preprocessing import StandardScaler\n",
        "from sklearn.preprocessing import MinMaxScaler\n",
        "from sklearn.model_selection import train_test_split\n",
        "from sklearn import linear_model\n",
        "from sklearn.metrics import mean_squared_error  # MSE\n",
        "from sklearn.metrics import mean_absolute_error # MAE\n",
        "from sklearn.metrics import median_absolute_error # MedAE\n",
        "from sklearn.preprocessing import PolynomialFeatures\n",
        "from sklearn.decomposition import PCA\n",
        "from sklearn.model_selection import KFold\n",
        "from sklearn.model_selection import cross_val_score\n",
        "from sklearn.linear_model import RANSACRegressor, SGDRegressor, HuberRegressor, TheilSenRegressor\n",
        "from sklearn.linear_model import LinearRegression\n",
        "from sklearn.linear_model import Lasso, Ridge\n",
        "from sklearn.linear_model import ElasticNet\n",
        "from sklearn.tree import DecisionTreeRegressor\n",
        "from sklearn.neighbors import KNeighborsRegressor\n",
        "from sklearn.svm import SVR\n",
        "from sklearn.ensemble import AdaBoostRegressor\n",
        "from sklearn.ensemble import GradientBoostingRegressor\n",
        "from sklearn.ensemble import RandomForestRegressor\n",
        "from sklearn.ensemble import ExtraTreesRegressor\n",
        "import joblib\n",
        "import seaborn as sn\n",
        "import matplotlib.pyplot as plt\n",
        "import random\n",
        "import numpy as np\n",
        "import plotly.graph_objects as go\n",
        "import pickle\n",
        "import json\n",
        "from sklearn.pipeline import Pipeline\n",
        "import pandas as pd\n",
        "from sklearn import datasets\n",
        "from google.colab import data_table\n",
        "import seaborn as sns\n",
        "import plotly.express as px"
      ],
      "metadata": {
        "id": "Fx1BilHPmBQN"
      },
      "execution_count": 13,
      "outputs": []
    },
    {
      "cell_type": "markdown",
      "source": [
        "## Collect the data"
      ],
      "metadata": {
        "id": "MRfC3surmV52"
      }
    },
    {
      "cell_type": "code",
      "execution_count": 2,
      "metadata": {
        "id": "28lO_yBylgWs"
      },
      "outputs": [],
      "source": [
        "# X1        X2                  X3         Y \n",
        "# age  num hours working     experience   salary\n",
        "\n",
        "X1 = np.random.randint(18,65,200)\n",
        "X2 = np.random.randint(0,12,200)\n",
        "X3 = np.random.randint(0,5,200)\n",
        "Y = np.random.randint(500,3000,200)\n",
        "X = np.array([X1,X3,X3]).T\n",
        "\n",
        "T = np.array([X1,X2,X2,Y]).T\n",
        "\n",
        "df = pd.DataFrame(T, columns=[\"age\",\"num_hours\",\"experience\",\"salary\"])\n",
        "df.to_csv(\"name.csv\")"
      ]
    },
    {
      "cell_type": "markdown",
      "source": [
        "## Fast training"
      ],
      "metadata": {
        "id": "o-7vHWXLmXb7"
      }
    },
    {
      "cell_type": "code",
      "source": [
        "# Model selection\n",
        "models = {}\n",
        "models[\"Linear\"]        = LinearRegression()\n",
        "models[\"Huber\"]         = HuberRegressor(max_iter=1000)\n",
        "#models[\"TheilSen\"]      = TheilSenRegressor()\n",
        "models[\"Ridge\"]         = Ridge()\n",
        "models[\"Lasso\"]         = Lasso()\n",
        "models[\"ElasticNet\"]    = ElasticNet()\n",
        "models[\"KNN\"]           = KNeighborsRegressor(n_neighbors=5)\n",
        "models[\"DecisionTree\"]  = DecisionTreeRegressor()\n",
        "models[\"SVR\"]           = SVR(gamma=\"auto\")\n",
        "models[\"AdaBoost\"]      = AdaBoostRegressor(n_estimators=50)\n",
        "models[\"GradientBoost\"] = GradientBoostingRegressor(n_estimators=100)\n",
        "models[\"RandomForest\"]  = RandomForestRegressor(n_estimators=100)\n",
        "models[\"ExtraTrees\"]    = ExtraTreesRegressor(n_estimators=100)\n",
        "\n",
        "\n",
        "for name in list(models.keys()):\n",
        "  pipe = Pipeline([\n",
        "      (\"sc\", StandardScaler()),\n",
        "      (\"model\", models[name]) \n",
        "  ])\n",
        "\n",
        "  X_train, X_test, Y_train, Y_test = train_test_split( X, Y, test_size=0.20,shuffle=True, random_state=5)\n",
        "\n",
        "  pipe.fit(X_train, Y_train)\n",
        "\n",
        "  Y_hat = pipe.predict(X_test)\n",
        "\n",
        "  err = np.sqrt( mean_squared_error(Y_hat,Y_test) )\n",
        "\n",
        "  print(name + \" RMSE: \", err)\n"
      ],
      "metadata": {
        "id": "4tibXr8llo6n"
      },
      "execution_count": null,
      "outputs": []
    },
    {
      "cell_type": "code",
      "source": [
        "pipe = Pipeline([\n",
        "      (\"sc\", StandardScaler()),\n",
        "      (\"model\", models[\"ElasticNet\"]) \n",
        "  ])\n",
        "\n",
        "X_train, X_test, Y_train, Y_test = train_test_split( X, Y, test_size=0.20,shuffle=True, random_state=5)\n",
        "\n",
        "pipe.fit(X_train, Y_train)\n",
        "\n",
        "Y_hat = pipe.predict(X_test)\n",
        "\n",
        "err = np.sqrt( mean_squared_error(Y_hat,Y_test) )\n",
        "\n",
        "print(name + \" RMSE: \", err)\n",
        "\n",
        "joblib.dump(pipe, \"model_fast.pkl\")\n",
        "\n",
        "Y_hat = pipe.predict(X)\n",
        "\n",
        "x = np.linspace(start=0,stop=len(Y_hat),num=len(Y_hat))\n",
        "fig = go.Figure()\n",
        "fig.add_trace( go.Scatter( x=x, y=Y.flatten(),mode=\"markers+lines\", name=\"Y\") )\n",
        "fig.add_trace( go.Scatter( x=x, y=Y_hat.flatten(),mode=\"markers+lines\", name=\"Y_hat\") )\n",
        "fig.update_layout(title_text=\"Results\", hovermode=\"x\")\n",
        "fig.show()"
      ],
      "metadata": {
        "colab": {
          "base_uri": "https://localhost:8080/",
          "height": 559
        },
        "id": "iWoF6gNJoCV2",
        "outputId": "b8f24e91-a730-4f65-bea2-b5595e7f8cc3"
      },
      "execution_count": 29,
      "outputs": [
        {
          "output_type": "stream",
          "name": "stdout",
          "text": [
            "ExtraTrees RMSE:  740.6617948032859\n"
          ]
        },
        {
          "output_type": "display_data",
          "data": {
            "text/html": [
              "<html>\n",
              "<head><meta charset=\"utf-8\" /></head>\n",
              "<body>\n",
              "    <div>            <script src=\"https://cdnjs.cloudflare.com/ajax/libs/mathjax/2.7.5/MathJax.js?config=TeX-AMS-MML_SVG\"></script><script type=\"text/javascript\">if (window.MathJax) {MathJax.Hub.Config({SVG: {font: \"STIX-Web\"}});}</script>                <script type=\"text/javascript\">window.PlotlyConfig = {MathJaxConfig: 'local'};</script>\n",
              "        <script src=\"https://cdn.plot.ly/plotly-2.8.3.min.js\"></script>                <div id=\"c3266f70-e048-4420-8d1f-6711b3c5187f\" class=\"plotly-graph-div\" style=\"height:525px; width:100%;\"></div>            <script type=\"text/javascript\">                                    window.PLOTLYENV=window.PLOTLYENV || {};                                    if (document.getElementById(\"c3266f70-e048-4420-8d1f-6711b3c5187f\")) {                    Plotly.newPlot(                        \"c3266f70-e048-4420-8d1f-6711b3c5187f\",                        [{\"mode\":\"markers+lines\",\"name\":\"Y\",\"x\":[0.0,1.0050251256281406,2.0100502512562812,3.015075376884422,4.0201005025125625,5.025125628140703,6.030150753768844,7.035175879396984,8.040201005025125,9.045226130653266,10.050251256281406,11.055276381909547,12.060301507537687,13.065326633165828,14.070351758793969,15.07537688442211,16.08040201005025,17.08542713567839,18.09045226130653,19.09547738693467,20.100502512562812,21.105527638190953,22.110552763819094,23.115577889447234,24.120603015075375,25.125628140703515,26.130653266331656,27.135678391959797,28.140703517587937,29.145728643216078,30.15075376884422,31.15577889447236,32.1608040201005,33.16582914572864,34.17085427135678,35.175879396984925,36.18090452261306,37.1859296482412,38.19095477386934,39.19597989949749,40.201005025125625,41.20603015075376,42.211055276381906,43.21608040201005,44.22110552763819,45.226130653266324,46.23115577889447,47.23618090452261,48.24120603015075,49.24623115577889,50.25125628140703,51.256281407035175,52.26130653266331,53.26633165829145,54.27135678391959,55.27638190954774,56.281407035175874,57.28643216080401,58.291457286432156,59.2964824120603,60.30150753768844,61.306532663316574,62.31155778894472,63.31658291457286,64.321608040201,65.32663316582914,66.33165829145727,67.33668341708542,68.34170854271356,69.3467336683417,70.35175879396985,71.35678391959799,72.36180904522612,73.36683417085426,74.3718592964824,75.37688442211055,76.38190954773869,77.38693467336682,78.39195979899498,79.39698492462311,80.40201005025125,81.40703517587939,82.41206030150752,83.41708542713567,84.42211055276381,85.42713567839195,86.4321608040201,87.43718592964824,88.44221105527637,89.44723618090451,90.45226130653265,91.4572864321608,92.46231155778894,93.46733668341707,94.47236180904522,95.47738693467336,96.4824120603015,97.48743718592964,98.49246231155777,99.49748743718592,100.50251256281406,101.5075376884422,102.51256281407035,103.51758793969849,104.52261306532662,105.52763819095476,106.5326633165829,107.53768844221105,108.54271356783919,109.54773869346732,110.55276381909547,111.55778894472361,112.56281407035175,113.56783919597989,114.57286432160802,115.57788944723617,116.58291457286431,117.58793969849245,118.5929648241206,119.59798994974874,120.60301507537687,121.60804020100501,122.61306532663315,123.6180904522613,124.62311557788944,125.62814070351757,126.63316582914572,127.63819095477386,128.643216080402,129.64824120603015,130.65326633165827,131.65829145728642,132.66331658291455,133.6683417085427,134.67336683417085,135.67839195979897,136.68341708542712,137.68844221105527,138.6934673366834,139.69849246231155,140.7035175879397,141.70854271356782,142.71356783919597,143.7185929648241,144.72361809045225,145.7286432160804,146.73366834170852,147.73869346733667,148.7437185929648,149.74874371859295,150.7537688442211,151.75879396984922,152.76381909547737,153.76884422110552,154.77386934673365,155.7788944723618,156.78391959798995,157.78894472361807,158.79396984924622,159.79899497487435,160.8040201005025,161.80904522613065,162.81407035175877,163.81909547738692,164.82412060301505,165.8291457286432,166.83417085427135,167.83919597989947,168.84422110552762,169.84924623115577,170.8542713567839,171.85929648241205,172.8643216080402,173.86934673366832,174.87437185929647,175.8793969849246,176.88442211055275,177.8894472361809,178.89447236180902,179.89949748743717,180.9045226130653,181.90954773869345,182.9145728643216,183.91959798994972,184.92462311557787,185.92964824120602,186.93467336683415,187.9396984924623,188.94472361809045,189.94974874371857,190.95477386934672,191.95979899497485,192.964824120603,193.96984924623115,194.97487437185927,195.97989949748742,196.98492462311555,197.9899497487437,198.99497487437185,200.0],\"y\":[1676,2634,1069,1936,2852,1775,2683,2815,918,1195,1897,2679,1655,2533,665,891,1309,2257,2097,1343,2581,2816,841,2272,2497,617,2372,1730,2762,2875,2083,706,683,2758,2014,2377,2588,1892,1546,1527,1081,1514,2524,1932,2369,2460,1840,2825,1020,1467,772,783,2708,959,1217,2380,1082,1931,2826,1082,820,2145,2323,537,1414,947,2719,1481,1794,621,1617,1917,1098,2091,1702,623,1957,2523,1916,1221,786,2534,2784,2814,2367,591,1027,1040,1356,2484,1984,1907,1039,2531,1048,2034,1798,1665,560,2416,1859,1974,535,1644,1390,648,1259,929,2268,2818,2667,579,2447,1382,653,1863,2038,2571,1421,1256,827,2248,1411,1828,2127,1363,642,1979,740,2293,608,1897,632,2795,1740,759,2398,2886,900,1313,643,1384,2885,1728,1515,2401,2701,687,625,2699,1761,2334,2642,501,1027,1630,2451,1531,923,1572,2517,2745,2169,598,578,1385,825,2791,548,1976,2471,2005,2673,2624,2697,688,1554,1909,1830,2423,726,2447,1283,2601,1495,2575,676,2514,1201,2059,2516,2161,1962,2791,1882,2412,2560,2430,2218,2916],\"type\":\"scatter\"},{\"mode\":\"markers+lines\",\"name\":\"Y_hat\",\"x\":[0.0,1.0050251256281406,2.0100502512562812,3.015075376884422,4.0201005025125625,5.025125628140703,6.030150753768844,7.035175879396984,8.040201005025125,9.045226130653266,10.050251256281406,11.055276381909547,12.060301507537687,13.065326633165828,14.070351758793969,15.07537688442211,16.08040201005025,17.08542713567839,18.09045226130653,19.09547738693467,20.100502512562812,21.105527638190953,22.110552763819094,23.115577889447234,24.120603015075375,25.125628140703515,26.130653266331656,27.135678391959797,28.140703517587937,29.145728643216078,30.15075376884422,31.15577889447236,32.1608040201005,33.16582914572864,34.17085427135678,35.175879396984925,36.18090452261306,37.1859296482412,38.19095477386934,39.19597989949749,40.201005025125625,41.20603015075376,42.211055276381906,43.21608040201005,44.22110552763819,45.226130653266324,46.23115577889447,47.23618090452261,48.24120603015075,49.24623115577889,50.25125628140703,51.256281407035175,52.26130653266331,53.26633165829145,54.27135678391959,55.27638190954774,56.281407035175874,57.28643216080401,58.291457286432156,59.2964824120603,60.30150753768844,61.306532663316574,62.31155778894472,63.31658291457286,64.321608040201,65.32663316582914,66.33165829145727,67.33668341708542,68.34170854271356,69.3467336683417,70.35175879396985,71.35678391959799,72.36180904522612,73.36683417085426,74.3718592964824,75.37688442211055,76.38190954773869,77.38693467336682,78.39195979899498,79.39698492462311,80.40201005025125,81.40703517587939,82.41206030150752,83.41708542713567,84.42211055276381,85.42713567839195,86.4321608040201,87.43718592964824,88.44221105527637,89.44723618090451,90.45226130653265,91.4572864321608,92.46231155778894,93.46733668341707,94.47236180904522,95.47738693467336,96.4824120603015,97.48743718592964,98.49246231155777,99.49748743718592,100.50251256281406,101.5075376884422,102.51256281407035,103.51758793969849,104.52261306532662,105.52763819095476,106.5326633165829,107.53768844221105,108.54271356783919,109.54773869346732,110.55276381909547,111.55778894472361,112.56281407035175,113.56783919597989,114.57286432160802,115.57788944723617,116.58291457286431,117.58793969849245,118.5929648241206,119.59798994974874,120.60301507537687,121.60804020100501,122.61306532663315,123.6180904522613,124.62311557788944,125.62814070351757,126.63316582914572,127.63819095477386,128.643216080402,129.64824120603015,130.65326633165827,131.65829145728642,132.66331658291455,133.6683417085427,134.67336683417085,135.67839195979897,136.68341708542712,137.68844221105527,138.6934673366834,139.69849246231155,140.7035175879397,141.70854271356782,142.71356783919597,143.7185929648241,144.72361809045225,145.7286432160804,146.73366834170852,147.73869346733667,148.7437185929648,149.74874371859295,150.7537688442211,151.75879396984922,152.76381909547737,153.76884422110552,154.77386934673365,155.7788944723618,156.78391959798995,157.78894472361807,158.79396984924622,159.79899497487435,160.8040201005025,161.80904522613065,162.81407035175877,163.81909547738692,164.82412060301505,165.8291457286432,166.83417085427135,167.83919597989947,168.84422110552762,169.84924623115577,170.8542713567839,171.85929648241205,172.8643216080402,173.86934673366832,174.87437185929647,175.8793969849246,176.88442211055275,177.8894472361809,178.89447236180902,179.89949748743717,180.9045226130653,181.90954773869345,182.9145728643216,183.91959798994972,184.92462311557787,185.92964824120602,186.93467336683415,187.9396984924623,188.94472361809045,189.94974874371857,190.95477386934672,191.95979899497485,192.964824120603,193.96984924623115,194.97487437185927,195.97989949748742,196.98492462311555,197.9899497487437,198.99497487437185,200.0],\"y\":[1693.930257300436,1855.4232213729322,1731.197864394089,1732.3587872395638,1668.9206667306164,1661.9644182848858,1791.8205816899338,1765.4855491005885,1670.2461087501422,1740.804996878871,1706.1882738242693,1802.7531561942415,1678.5277992153983,1800.1022721551901,1664.7798214979882,1813.8502498726,1724.0770967743074,1740.64047770482,1744.945842111499,1722.9161739288327,1715.9599254831023,1724.2416159483585,1666.105263517514,1785.0288524182542,1685.6485668351797,1722.7516547547818,1764.3246262551138,1664.7798214979882,1827.7627467640611,1739.315035685294,1709.0036770373717,1660.6389762653603,1666.105263517514,1837.369879248843,1794.4714657289853,1859.5640666055604,1652.357285800104,1667.5952247110906,1744.945842111499,1747.7612453246013,1717.2853675026279,1720.1007707157303,1757.3683778093832,1732.5233064136146,1706.3527929983204,1768.300952313691,1842.8361665009968,1750.4121293636529,1768.300952313691,1736.6641516462428,1769.7909135072675,1853.9332601793553,1666.105263517514,1807.0585206009205,1735.1741904526662,1685.6485668351797,1769.7909135072675,1735.1741904526662,1807.0585206009205,1695.2556993199616,1693.930257300436,1826.2727855704843,1822.1319403378563,1656.498131032732,1733.8487484331404,1728.3824611809866,1702.2119477656922,1728.3824611809866,1685.484047661129,1702.2119477656922,1865.030353857714,1691.1148540873337,1836.0444372293173,1751.9020905572295,1840.1852824619455,1785.0288524182542,1754.5529745962808,1784.8643332442034,1722.9161739288327,1831.903591996689,1743.6204000919734,1718.7753286962047,1780.8880071856263,1711.8190802504741,1678.6923183894494,1653.6827278196297,1666.105263517514,1771.1163555267933,1773.7672395658446,1717.2853675026279,1691.1148540873337,1674.5514731568212,1834.5544760357407,1731.033345220038,1686.9740088547055,1664.7798214979882,1725.5670579678842,1695.0911801459108,1765.6500682746396,1809.8739238140229,1772.6063167203702,1728.2179420069356,1740.804996878871,1713.14452227,1782.048930031101,1667.5952247110906,1728.3824611809866,1686.8094896806545,1776.582642778947,1686.8094896806545,1824.9473435509587,1772.6063167203702,1686.8094896806545,1707.5137158437951,1719.9362515416794,1815.3402110661768,1837.369879248843,1795.961426922562,1768.465471487742,1709.0036770373717,1724.0770967743074,1784.8643332442034,1802.9176753682925,1811.0348466594976,1698.071102533064,1816.6656530857024,1757.3683778093832,1742.1304388983965,1785.0288524182542,1689.6248928937569,1834.5544760357407,1790.4951396704082,1666.105263517514,1762.8346650615372,1670.2461087501422,1769.7909135072675,1765.4855491005885,1809.8739238140229,1776.747161952998,1660.6389762653603,1797.2868689420877,1702.0474285916412,1793.3105428835106,1824.9473435509587,1692.4402961068593,1677.2023571958725,1657.8235730522579,1722.9161739288327,1811.1993658335487,1710.4936382309484,1695.2556993199616,1685.484047661129,1806.8940014268696,1743.4558809179223,1816.6656530857024,1681.3432024285007,1856.7486633924577,1680.017760408975,1725.5670579678842,1819.316537124754,1802.7531561942415,1851.282376140304,1742.1304388983965,1827.7627467640611,1755.8784166158066,1815.3402110661768,1805.5685594073439,1681.3432024285007,1780.7234880115752,1729.7079032005122,1807.0585206009205,1751.7375713831784,1801.5922333487667,1689.789412067808,1686.8094896806545,1731.033345220038,1661.9644182848858,1808.3839626204463,1824.9473435509587,1802.7531561942415,1848.4669729272016,1710.4936382309484,1802.9176753682925,1768.465471487742,1768.300952313691,1824.9473435509587,1801.5922333487667,1702.2119477656922,1865.030353857714,1674.5514731568212,1699.2320253785388,1685.6485668351797,1805.5685594073439,1678.6923183894494,1766.9755102941651,1703.372870611167,1777.9080847984728,1827.59822759001,1793.1460237094595,1820.8064983183306],\"type\":\"scatter\"}],                        {\"template\":{\"data\":{\"bar\":[{\"error_x\":{\"color\":\"#2a3f5f\"},\"error_y\":{\"color\":\"#2a3f5f\"},\"marker\":{\"line\":{\"color\":\"#E5ECF6\",\"width\":0.5},\"pattern\":{\"fillmode\":\"overlay\",\"size\":10,\"solidity\":0.2}},\"type\":\"bar\"}],\"barpolar\":[{\"marker\":{\"line\":{\"color\":\"#E5ECF6\",\"width\":0.5},\"pattern\":{\"fillmode\":\"overlay\",\"size\":10,\"solidity\":0.2}},\"type\":\"barpolar\"}],\"carpet\":[{\"aaxis\":{\"endlinecolor\":\"#2a3f5f\",\"gridcolor\":\"white\",\"linecolor\":\"white\",\"minorgridcolor\":\"white\",\"startlinecolor\":\"#2a3f5f\"},\"baxis\":{\"endlinecolor\":\"#2a3f5f\",\"gridcolor\":\"white\",\"linecolor\":\"white\",\"minorgridcolor\":\"white\",\"startlinecolor\":\"#2a3f5f\"},\"type\":\"carpet\"}],\"choropleth\":[{\"colorbar\":{\"outlinewidth\":0,\"ticks\":\"\"},\"type\":\"choropleth\"}],\"contour\":[{\"colorbar\":{\"outlinewidth\":0,\"ticks\":\"\"},\"colorscale\":[[0.0,\"#0d0887\"],[0.1111111111111111,\"#46039f\"],[0.2222222222222222,\"#7201a8\"],[0.3333333333333333,\"#9c179e\"],[0.4444444444444444,\"#bd3786\"],[0.5555555555555556,\"#d8576b\"],[0.6666666666666666,\"#ed7953\"],[0.7777777777777778,\"#fb9f3a\"],[0.8888888888888888,\"#fdca26\"],[1.0,\"#f0f921\"]],\"type\":\"contour\"}],\"contourcarpet\":[{\"colorbar\":{\"outlinewidth\":0,\"ticks\":\"\"},\"type\":\"contourcarpet\"}],\"heatmap\":[{\"colorbar\":{\"outlinewidth\":0,\"ticks\":\"\"},\"colorscale\":[[0.0,\"#0d0887\"],[0.1111111111111111,\"#46039f\"],[0.2222222222222222,\"#7201a8\"],[0.3333333333333333,\"#9c179e\"],[0.4444444444444444,\"#bd3786\"],[0.5555555555555556,\"#d8576b\"],[0.6666666666666666,\"#ed7953\"],[0.7777777777777778,\"#fb9f3a\"],[0.8888888888888888,\"#fdca26\"],[1.0,\"#f0f921\"]],\"type\":\"heatmap\"}],\"heatmapgl\":[{\"colorbar\":{\"outlinewidth\":0,\"ticks\":\"\"},\"colorscale\":[[0.0,\"#0d0887\"],[0.1111111111111111,\"#46039f\"],[0.2222222222222222,\"#7201a8\"],[0.3333333333333333,\"#9c179e\"],[0.4444444444444444,\"#bd3786\"],[0.5555555555555556,\"#d8576b\"],[0.6666666666666666,\"#ed7953\"],[0.7777777777777778,\"#fb9f3a\"],[0.8888888888888888,\"#fdca26\"],[1.0,\"#f0f921\"]],\"type\":\"heatmapgl\"}],\"histogram\":[{\"marker\":{\"pattern\":{\"fillmode\":\"overlay\",\"size\":10,\"solidity\":0.2}},\"type\":\"histogram\"}],\"histogram2d\":[{\"colorbar\":{\"outlinewidth\":0,\"ticks\":\"\"},\"colorscale\":[[0.0,\"#0d0887\"],[0.1111111111111111,\"#46039f\"],[0.2222222222222222,\"#7201a8\"],[0.3333333333333333,\"#9c179e\"],[0.4444444444444444,\"#bd3786\"],[0.5555555555555556,\"#d8576b\"],[0.6666666666666666,\"#ed7953\"],[0.7777777777777778,\"#fb9f3a\"],[0.8888888888888888,\"#fdca26\"],[1.0,\"#f0f921\"]],\"type\":\"histogram2d\"}],\"histogram2dcontour\":[{\"colorbar\":{\"outlinewidth\":0,\"ticks\":\"\"},\"colorscale\":[[0.0,\"#0d0887\"],[0.1111111111111111,\"#46039f\"],[0.2222222222222222,\"#7201a8\"],[0.3333333333333333,\"#9c179e\"],[0.4444444444444444,\"#bd3786\"],[0.5555555555555556,\"#d8576b\"],[0.6666666666666666,\"#ed7953\"],[0.7777777777777778,\"#fb9f3a\"],[0.8888888888888888,\"#fdca26\"],[1.0,\"#f0f921\"]],\"type\":\"histogram2dcontour\"}],\"mesh3d\":[{\"colorbar\":{\"outlinewidth\":0,\"ticks\":\"\"},\"type\":\"mesh3d\"}],\"parcoords\":[{\"line\":{\"colorbar\":{\"outlinewidth\":0,\"ticks\":\"\"}},\"type\":\"parcoords\"}],\"pie\":[{\"automargin\":true,\"type\":\"pie\"}],\"scatter\":[{\"marker\":{\"colorbar\":{\"outlinewidth\":0,\"ticks\":\"\"}},\"type\":\"scatter\"}],\"scatter3d\":[{\"line\":{\"colorbar\":{\"outlinewidth\":0,\"ticks\":\"\"}},\"marker\":{\"colorbar\":{\"outlinewidth\":0,\"ticks\":\"\"}},\"type\":\"scatter3d\"}],\"scattercarpet\":[{\"marker\":{\"colorbar\":{\"outlinewidth\":0,\"ticks\":\"\"}},\"type\":\"scattercarpet\"}],\"scattergeo\":[{\"marker\":{\"colorbar\":{\"outlinewidth\":0,\"ticks\":\"\"}},\"type\":\"scattergeo\"}],\"scattergl\":[{\"marker\":{\"colorbar\":{\"outlinewidth\":0,\"ticks\":\"\"}},\"type\":\"scattergl\"}],\"scattermapbox\":[{\"marker\":{\"colorbar\":{\"outlinewidth\":0,\"ticks\":\"\"}},\"type\":\"scattermapbox\"}],\"scatterpolar\":[{\"marker\":{\"colorbar\":{\"outlinewidth\":0,\"ticks\":\"\"}},\"type\":\"scatterpolar\"}],\"scatterpolargl\":[{\"marker\":{\"colorbar\":{\"outlinewidth\":0,\"ticks\":\"\"}},\"type\":\"scatterpolargl\"}],\"scatterternary\":[{\"marker\":{\"colorbar\":{\"outlinewidth\":0,\"ticks\":\"\"}},\"type\":\"scatterternary\"}],\"surface\":[{\"colorbar\":{\"outlinewidth\":0,\"ticks\":\"\"},\"colorscale\":[[0.0,\"#0d0887\"],[0.1111111111111111,\"#46039f\"],[0.2222222222222222,\"#7201a8\"],[0.3333333333333333,\"#9c179e\"],[0.4444444444444444,\"#bd3786\"],[0.5555555555555556,\"#d8576b\"],[0.6666666666666666,\"#ed7953\"],[0.7777777777777778,\"#fb9f3a\"],[0.8888888888888888,\"#fdca26\"],[1.0,\"#f0f921\"]],\"type\":\"surface\"}],\"table\":[{\"cells\":{\"fill\":{\"color\":\"#EBF0F8\"},\"line\":{\"color\":\"white\"}},\"header\":{\"fill\":{\"color\":\"#C8D4E3\"},\"line\":{\"color\":\"white\"}},\"type\":\"table\"}]},\"layout\":{\"annotationdefaults\":{\"arrowcolor\":\"#2a3f5f\",\"arrowhead\":0,\"arrowwidth\":1},\"autotypenumbers\":\"strict\",\"coloraxis\":{\"colorbar\":{\"outlinewidth\":0,\"ticks\":\"\"}},\"colorscale\":{\"diverging\":[[0,\"#8e0152\"],[0.1,\"#c51b7d\"],[0.2,\"#de77ae\"],[0.3,\"#f1b6da\"],[0.4,\"#fde0ef\"],[0.5,\"#f7f7f7\"],[0.6,\"#e6f5d0\"],[0.7,\"#b8e186\"],[0.8,\"#7fbc41\"],[0.9,\"#4d9221\"],[1,\"#276419\"]],\"sequential\":[[0.0,\"#0d0887\"],[0.1111111111111111,\"#46039f\"],[0.2222222222222222,\"#7201a8\"],[0.3333333333333333,\"#9c179e\"],[0.4444444444444444,\"#bd3786\"],[0.5555555555555556,\"#d8576b\"],[0.6666666666666666,\"#ed7953\"],[0.7777777777777778,\"#fb9f3a\"],[0.8888888888888888,\"#fdca26\"],[1.0,\"#f0f921\"]],\"sequentialminus\":[[0.0,\"#0d0887\"],[0.1111111111111111,\"#46039f\"],[0.2222222222222222,\"#7201a8\"],[0.3333333333333333,\"#9c179e\"],[0.4444444444444444,\"#bd3786\"],[0.5555555555555556,\"#d8576b\"],[0.6666666666666666,\"#ed7953\"],[0.7777777777777778,\"#fb9f3a\"],[0.8888888888888888,\"#fdca26\"],[1.0,\"#f0f921\"]]},\"colorway\":[\"#636efa\",\"#EF553B\",\"#00cc96\",\"#ab63fa\",\"#FFA15A\",\"#19d3f3\",\"#FF6692\",\"#B6E880\",\"#FF97FF\",\"#FECB52\"],\"font\":{\"color\":\"#2a3f5f\"},\"geo\":{\"bgcolor\":\"white\",\"lakecolor\":\"white\",\"landcolor\":\"#E5ECF6\",\"showlakes\":true,\"showland\":true,\"subunitcolor\":\"white\"},\"hoverlabel\":{\"align\":\"left\"},\"hovermode\":\"closest\",\"mapbox\":{\"style\":\"light\"},\"paper_bgcolor\":\"white\",\"plot_bgcolor\":\"#E5ECF6\",\"polar\":{\"angularaxis\":{\"gridcolor\":\"white\",\"linecolor\":\"white\",\"ticks\":\"\"},\"bgcolor\":\"#E5ECF6\",\"radialaxis\":{\"gridcolor\":\"white\",\"linecolor\":\"white\",\"ticks\":\"\"}},\"scene\":{\"xaxis\":{\"backgroundcolor\":\"#E5ECF6\",\"gridcolor\":\"white\",\"gridwidth\":2,\"linecolor\":\"white\",\"showbackground\":true,\"ticks\":\"\",\"zerolinecolor\":\"white\"},\"yaxis\":{\"backgroundcolor\":\"#E5ECF6\",\"gridcolor\":\"white\",\"gridwidth\":2,\"linecolor\":\"white\",\"showbackground\":true,\"ticks\":\"\",\"zerolinecolor\":\"white\"},\"zaxis\":{\"backgroundcolor\":\"#E5ECF6\",\"gridcolor\":\"white\",\"gridwidth\":2,\"linecolor\":\"white\",\"showbackground\":true,\"ticks\":\"\",\"zerolinecolor\":\"white\"}},\"shapedefaults\":{\"line\":{\"color\":\"#2a3f5f\"}},\"ternary\":{\"aaxis\":{\"gridcolor\":\"white\",\"linecolor\":\"white\",\"ticks\":\"\"},\"baxis\":{\"gridcolor\":\"white\",\"linecolor\":\"white\",\"ticks\":\"\"},\"bgcolor\":\"#E5ECF6\",\"caxis\":{\"gridcolor\":\"white\",\"linecolor\":\"white\",\"ticks\":\"\"}},\"title\":{\"x\":0.05},\"xaxis\":{\"automargin\":true,\"gridcolor\":\"white\",\"linecolor\":\"white\",\"ticks\":\"\",\"title\":{\"standoff\":15},\"zerolinecolor\":\"white\",\"zerolinewidth\":2},\"yaxis\":{\"automargin\":true,\"gridcolor\":\"white\",\"linecolor\":\"white\",\"ticks\":\"\",\"title\":{\"standoff\":15},\"zerolinecolor\":\"white\",\"zerolinewidth\":2}}},\"title\":{\"text\":\"Results\"},\"hovermode\":\"x\"},                        {\"responsive\": true}                    ).then(function(){\n",
              "                            \n",
              "var gd = document.getElementById('c3266f70-e048-4420-8d1f-6711b3c5187f');\n",
              "var x = new MutationObserver(function (mutations, observer) {{\n",
              "        var display = window.getComputedStyle(gd).display;\n",
              "        if (!display || display === 'none') {{\n",
              "            console.log([gd, 'removed!']);\n",
              "            Plotly.purge(gd);\n",
              "            observer.disconnect();\n",
              "        }}\n",
              "}});\n",
              "\n",
              "// Listen for the removal of the full notebook cells\n",
              "var notebookContainer = gd.closest('#notebook-container');\n",
              "if (notebookContainer) {{\n",
              "    x.observe(notebookContainer, {childList: true});\n",
              "}}\n",
              "\n",
              "// Listen for the clearing of the current output cell\n",
              "var outputEl = gd.closest('.output');\n",
              "if (outputEl) {{\n",
              "    x.observe(outputEl, {childList: true});\n",
              "}}\n",
              "\n",
              "                        })                };                            </script>        </div>\n",
              "</body>\n",
              "</html>"
            ]
          },
          "metadata": {}
        }
      ]
    },
    {
      "cell_type": "markdown",
      "source": [
        "## Cross validation "
      ],
      "metadata": {
        "id": "FGoc5MV5oey6"
      }
    },
    {
      "cell_type": "code",
      "source": [
        "\n",
        "# Model selection\n",
        "models = {}\n",
        "models[\"Linear\"]        = LinearRegression()\n",
        "models[\"Huber\"]         = HuberRegressor(max_iter=1000)\n",
        "#models[\"TheilSen\"]      = TheilSenRegressor()\n",
        "models[\"Ridge\"]         = Ridge()\n",
        "models[\"Lasso\"]         = Lasso()\n",
        "models[\"ElasticNet\"]    = ElasticNet()\n",
        "models[\"KNN\"]           = KNeighborsRegressor(n_neighbors=5)\n",
        "models[\"DecisionTree\"]  = DecisionTreeRegressor()\n",
        "models[\"SVR\"]           = SVR(gamma=\"auto\")\n",
        "models[\"AdaBoost\"]      = AdaBoostRegressor(n_estimators=50)\n",
        "models[\"GradientBoost\"] = GradientBoostingRegressor(n_estimators=100)\n",
        "models[\"RandomForest\"]  = RandomForestRegressor(n_estimators=100)\n",
        "models[\"ExtraTrees\"]    = ExtraTreesRegressor(n_estimators=100)\n",
        "\n",
        "# Cors\n",
        "k_fold  = KFold(n_splits=5, random_state=5,shuffle=True)\n",
        "\n",
        "model_results = []\n",
        "model_names   = []\n",
        "for name in list(models.keys()):\n",
        "  \n",
        "  # Model selection\n",
        "  model_names.append(name)\n",
        "  # Definisco il modello\n",
        "  pipe = Pipeline([\n",
        "      (\"sc\", StandardScaler()), # fit # mean, std\n",
        "      (\"model\", models[name]) # trovare i parametri a0 a1 a2 \n",
        "  ])\n",
        "  c = 0 \n",
        "\n",
        "  # Cross validation\n",
        "  results = []\n",
        "  for train_index, test_index in k_fold.split(X):\n",
        "    #print(\"TRAIN:\", train_index, \"TEST:\", test_index)\n",
        "    X_train = X[train_index]\n",
        "    y_train = Y[train_index]\n",
        "    X_test = X[test_index]\n",
        "    y_test = Y[test_index]\n",
        "\n",
        "    pipe.fit(X_train,y_train)\n",
        "    y_hat_test = pipe.predict(X_test)\n",
        "    err = np.sqrt( mean_squared_error(y_hat_test, y_test)) # rmse\n",
        "    #err = mean_absolute_error(y_hat_test, y_test)         # mae\n",
        "    results.append(err)\n",
        "    print(name + \": insieme: \"+ str(c) + \" RMSE: \", err)\n",
        "    c = c+1\n",
        "\n",
        "  model_results.append(results)"
      ],
      "metadata": {
        "id": "f9-NCHNMoeRq"
      },
      "execution_count": null,
      "outputs": []
    },
    {
      "cell_type": "code",
      "source": [
        "  fig = go.Figure()\n",
        "  for name,res in zip(model_names,model_results):    \n",
        "      fig.add_trace(go.Box(y=res,name=name, boxpoints='all'))\n",
        "  fig.show()"
      ],
      "metadata": {
        "colab": {
          "base_uri": "https://localhost:8080/",
          "height": 542
        },
        "id": "BC2Jpb0GomII",
        "outputId": "232441dd-d49e-43b3-bef0-84b8ff8dbb1a"
      },
      "execution_count": 23,
      "outputs": [
        {
          "output_type": "display_data",
          "data": {
            "text/html": [
              "<html>\n",
              "<head><meta charset=\"utf-8\" /></head>\n",
              "<body>\n",
              "    <div>            <script src=\"https://cdnjs.cloudflare.com/ajax/libs/mathjax/2.7.5/MathJax.js?config=TeX-AMS-MML_SVG\"></script><script type=\"text/javascript\">if (window.MathJax) {MathJax.Hub.Config({SVG: {font: \"STIX-Web\"}});}</script>                <script type=\"text/javascript\">window.PlotlyConfig = {MathJaxConfig: 'local'};</script>\n",
              "        <script src=\"https://cdn.plot.ly/plotly-2.8.3.min.js\"></script>                <div id=\"d7733aeb-c8bb-4353-95d8-9493a737ff5a\" class=\"plotly-graph-div\" style=\"height:525px; width:100%;\"></div>            <script type=\"text/javascript\">                                    window.PLOTLYENV=window.PLOTLYENV || {};                                    if (document.getElementById(\"d7733aeb-c8bb-4353-95d8-9493a737ff5a\")) {                    Plotly.newPlot(                        \"d7733aeb-c8bb-4353-95d8-9493a737ff5a\",                        [{\"boxpoints\":\"all\",\"name\":\"Linear\",\"y\":[750.5251596828826,682.5695809799021,820.8738940909254,781.0569978793593,715.3929101843274],\"type\":\"box\"},{\"boxpoints\":\"all\",\"name\":\"Huber\",\"y\":[759.6289454307896,686.5510602983896,839.9694136843165,781.970763115955,722.2540591941025],\"type\":\"box\"},{\"boxpoints\":\"all\",\"name\":\"Ridge\",\"y\":[750.3323488945969,682.548074036989,819.5205772378899,781.0548584269789,715.3591290298222],\"type\":\"box\"},{\"boxpoints\":\"all\",\"name\":\"Lasso\",\"y\":[750.1465964807926,682.2969416614238,819.1938184170025,780.8552643468219,715.1610117989097],\"type\":\"box\"},{\"boxpoints\":\"all\",\"name\":\"ElasticNet\",\"y\":[740.6617948032859,681.3725395909375,803.9177074111385,780.8694758110438,713.553353016087],\"type\":\"box\"},{\"boxpoints\":\"all\",\"name\":\"KNN\",\"y\":[832.0512460179361,689.4070299902663,959.2411115042975,761.5529108341717,725.3515368426539],\"type\":\"box\"},{\"boxpoints\":\"all\",\"name\":\"DecisionTree\",\"y\":[972.8566362636492,963.1345667922006,1168.7783389315339,1068.360930805794,831.7016200069723],\"type\":\"box\"},{\"boxpoints\":\"all\",\"name\":\"SVR\",\"y\":[718.2119000846133,691.6029897034152,785.6502429696644,780.9228866897312,731.7872915387371],\"type\":\"box\"},{\"boxpoints\":\"all\",\"name\":\"AdaBoost\",\"y\":[724.8796496228099,657.9613357749439,828.1765314518202,800.2331955397353,726.5832993238894],\"type\":\"box\"},{\"boxpoints\":\"all\",\"name\":\"GradientBoost\",\"y\":[884.4862941138157,733.2503657672952,1020.7872245050384,833.8308532492559,678.0699736350974],\"type\":\"box\"},{\"boxpoints\":\"all\",\"name\":\"RandomForest\",\"y\":[884.3290502180364,776.7114449213591,1007.3255133368523,853.5014056068785,709.1709503846356],\"type\":\"box\"},{\"boxpoints\":\"all\",\"name\":\"ExtraTrees\",\"y\":[947.3069835061095,890.2325782737903,1073.910171524623,1006.1579329955416,782.40579157884],\"type\":\"box\"}],                        {\"template\":{\"data\":{\"bar\":[{\"error_x\":{\"color\":\"#2a3f5f\"},\"error_y\":{\"color\":\"#2a3f5f\"},\"marker\":{\"line\":{\"color\":\"#E5ECF6\",\"width\":0.5},\"pattern\":{\"fillmode\":\"overlay\",\"size\":10,\"solidity\":0.2}},\"type\":\"bar\"}],\"barpolar\":[{\"marker\":{\"line\":{\"color\":\"#E5ECF6\",\"width\":0.5},\"pattern\":{\"fillmode\":\"overlay\",\"size\":10,\"solidity\":0.2}},\"type\":\"barpolar\"}],\"carpet\":[{\"aaxis\":{\"endlinecolor\":\"#2a3f5f\",\"gridcolor\":\"white\",\"linecolor\":\"white\",\"minorgridcolor\":\"white\",\"startlinecolor\":\"#2a3f5f\"},\"baxis\":{\"endlinecolor\":\"#2a3f5f\",\"gridcolor\":\"white\",\"linecolor\":\"white\",\"minorgridcolor\":\"white\",\"startlinecolor\":\"#2a3f5f\"},\"type\":\"carpet\"}],\"choropleth\":[{\"colorbar\":{\"outlinewidth\":0,\"ticks\":\"\"},\"type\":\"choropleth\"}],\"contour\":[{\"colorbar\":{\"outlinewidth\":0,\"ticks\":\"\"},\"colorscale\":[[0.0,\"#0d0887\"],[0.1111111111111111,\"#46039f\"],[0.2222222222222222,\"#7201a8\"],[0.3333333333333333,\"#9c179e\"],[0.4444444444444444,\"#bd3786\"],[0.5555555555555556,\"#d8576b\"],[0.6666666666666666,\"#ed7953\"],[0.7777777777777778,\"#fb9f3a\"],[0.8888888888888888,\"#fdca26\"],[1.0,\"#f0f921\"]],\"type\":\"contour\"}],\"contourcarpet\":[{\"colorbar\":{\"outlinewidth\":0,\"ticks\":\"\"},\"type\":\"contourcarpet\"}],\"heatmap\":[{\"colorbar\":{\"outlinewidth\":0,\"ticks\":\"\"},\"colorscale\":[[0.0,\"#0d0887\"],[0.1111111111111111,\"#46039f\"],[0.2222222222222222,\"#7201a8\"],[0.3333333333333333,\"#9c179e\"],[0.4444444444444444,\"#bd3786\"],[0.5555555555555556,\"#d8576b\"],[0.6666666666666666,\"#ed7953\"],[0.7777777777777778,\"#fb9f3a\"],[0.8888888888888888,\"#fdca26\"],[1.0,\"#f0f921\"]],\"type\":\"heatmap\"}],\"heatmapgl\":[{\"colorbar\":{\"outlinewidth\":0,\"ticks\":\"\"},\"colorscale\":[[0.0,\"#0d0887\"],[0.1111111111111111,\"#46039f\"],[0.2222222222222222,\"#7201a8\"],[0.3333333333333333,\"#9c179e\"],[0.4444444444444444,\"#bd3786\"],[0.5555555555555556,\"#d8576b\"],[0.6666666666666666,\"#ed7953\"],[0.7777777777777778,\"#fb9f3a\"],[0.8888888888888888,\"#fdca26\"],[1.0,\"#f0f921\"]],\"type\":\"heatmapgl\"}],\"histogram\":[{\"marker\":{\"pattern\":{\"fillmode\":\"overlay\",\"size\":10,\"solidity\":0.2}},\"type\":\"histogram\"}],\"histogram2d\":[{\"colorbar\":{\"outlinewidth\":0,\"ticks\":\"\"},\"colorscale\":[[0.0,\"#0d0887\"],[0.1111111111111111,\"#46039f\"],[0.2222222222222222,\"#7201a8\"],[0.3333333333333333,\"#9c179e\"],[0.4444444444444444,\"#bd3786\"],[0.5555555555555556,\"#d8576b\"],[0.6666666666666666,\"#ed7953\"],[0.7777777777777778,\"#fb9f3a\"],[0.8888888888888888,\"#fdca26\"],[1.0,\"#f0f921\"]],\"type\":\"histogram2d\"}],\"histogram2dcontour\":[{\"colorbar\":{\"outlinewidth\":0,\"ticks\":\"\"},\"colorscale\":[[0.0,\"#0d0887\"],[0.1111111111111111,\"#46039f\"],[0.2222222222222222,\"#7201a8\"],[0.3333333333333333,\"#9c179e\"],[0.4444444444444444,\"#bd3786\"],[0.5555555555555556,\"#d8576b\"],[0.6666666666666666,\"#ed7953\"],[0.7777777777777778,\"#fb9f3a\"],[0.8888888888888888,\"#fdca26\"],[1.0,\"#f0f921\"]],\"type\":\"histogram2dcontour\"}],\"mesh3d\":[{\"colorbar\":{\"outlinewidth\":0,\"ticks\":\"\"},\"type\":\"mesh3d\"}],\"parcoords\":[{\"line\":{\"colorbar\":{\"outlinewidth\":0,\"ticks\":\"\"}},\"type\":\"parcoords\"}],\"pie\":[{\"automargin\":true,\"type\":\"pie\"}],\"scatter\":[{\"marker\":{\"colorbar\":{\"outlinewidth\":0,\"ticks\":\"\"}},\"type\":\"scatter\"}],\"scatter3d\":[{\"line\":{\"colorbar\":{\"outlinewidth\":0,\"ticks\":\"\"}},\"marker\":{\"colorbar\":{\"outlinewidth\":0,\"ticks\":\"\"}},\"type\":\"scatter3d\"}],\"scattercarpet\":[{\"marker\":{\"colorbar\":{\"outlinewidth\":0,\"ticks\":\"\"}},\"type\":\"scattercarpet\"}],\"scattergeo\":[{\"marker\":{\"colorbar\":{\"outlinewidth\":0,\"ticks\":\"\"}},\"type\":\"scattergeo\"}],\"scattergl\":[{\"marker\":{\"colorbar\":{\"outlinewidth\":0,\"ticks\":\"\"}},\"type\":\"scattergl\"}],\"scattermapbox\":[{\"marker\":{\"colorbar\":{\"outlinewidth\":0,\"ticks\":\"\"}},\"type\":\"scattermapbox\"}],\"scatterpolar\":[{\"marker\":{\"colorbar\":{\"outlinewidth\":0,\"ticks\":\"\"}},\"type\":\"scatterpolar\"}],\"scatterpolargl\":[{\"marker\":{\"colorbar\":{\"outlinewidth\":0,\"ticks\":\"\"}},\"type\":\"scatterpolargl\"}],\"scatterternary\":[{\"marker\":{\"colorbar\":{\"outlinewidth\":0,\"ticks\":\"\"}},\"type\":\"scatterternary\"}],\"surface\":[{\"colorbar\":{\"outlinewidth\":0,\"ticks\":\"\"},\"colorscale\":[[0.0,\"#0d0887\"],[0.1111111111111111,\"#46039f\"],[0.2222222222222222,\"#7201a8\"],[0.3333333333333333,\"#9c179e\"],[0.4444444444444444,\"#bd3786\"],[0.5555555555555556,\"#d8576b\"],[0.6666666666666666,\"#ed7953\"],[0.7777777777777778,\"#fb9f3a\"],[0.8888888888888888,\"#fdca26\"],[1.0,\"#f0f921\"]],\"type\":\"surface\"}],\"table\":[{\"cells\":{\"fill\":{\"color\":\"#EBF0F8\"},\"line\":{\"color\":\"white\"}},\"header\":{\"fill\":{\"color\":\"#C8D4E3\"},\"line\":{\"color\":\"white\"}},\"type\":\"table\"}]},\"layout\":{\"annotationdefaults\":{\"arrowcolor\":\"#2a3f5f\",\"arrowhead\":0,\"arrowwidth\":1},\"autotypenumbers\":\"strict\",\"coloraxis\":{\"colorbar\":{\"outlinewidth\":0,\"ticks\":\"\"}},\"colorscale\":{\"diverging\":[[0,\"#8e0152\"],[0.1,\"#c51b7d\"],[0.2,\"#de77ae\"],[0.3,\"#f1b6da\"],[0.4,\"#fde0ef\"],[0.5,\"#f7f7f7\"],[0.6,\"#e6f5d0\"],[0.7,\"#b8e186\"],[0.8,\"#7fbc41\"],[0.9,\"#4d9221\"],[1,\"#276419\"]],\"sequential\":[[0.0,\"#0d0887\"],[0.1111111111111111,\"#46039f\"],[0.2222222222222222,\"#7201a8\"],[0.3333333333333333,\"#9c179e\"],[0.4444444444444444,\"#bd3786\"],[0.5555555555555556,\"#d8576b\"],[0.6666666666666666,\"#ed7953\"],[0.7777777777777778,\"#fb9f3a\"],[0.8888888888888888,\"#fdca26\"],[1.0,\"#f0f921\"]],\"sequentialminus\":[[0.0,\"#0d0887\"],[0.1111111111111111,\"#46039f\"],[0.2222222222222222,\"#7201a8\"],[0.3333333333333333,\"#9c179e\"],[0.4444444444444444,\"#bd3786\"],[0.5555555555555556,\"#d8576b\"],[0.6666666666666666,\"#ed7953\"],[0.7777777777777778,\"#fb9f3a\"],[0.8888888888888888,\"#fdca26\"],[1.0,\"#f0f921\"]]},\"colorway\":[\"#636efa\",\"#EF553B\",\"#00cc96\",\"#ab63fa\",\"#FFA15A\",\"#19d3f3\",\"#FF6692\",\"#B6E880\",\"#FF97FF\",\"#FECB52\"],\"font\":{\"color\":\"#2a3f5f\"},\"geo\":{\"bgcolor\":\"white\",\"lakecolor\":\"white\",\"landcolor\":\"#E5ECF6\",\"showlakes\":true,\"showland\":true,\"subunitcolor\":\"white\"},\"hoverlabel\":{\"align\":\"left\"},\"hovermode\":\"closest\",\"mapbox\":{\"style\":\"light\"},\"paper_bgcolor\":\"white\",\"plot_bgcolor\":\"#E5ECF6\",\"polar\":{\"angularaxis\":{\"gridcolor\":\"white\",\"linecolor\":\"white\",\"ticks\":\"\"},\"bgcolor\":\"#E5ECF6\",\"radialaxis\":{\"gridcolor\":\"white\",\"linecolor\":\"white\",\"ticks\":\"\"}},\"scene\":{\"xaxis\":{\"backgroundcolor\":\"#E5ECF6\",\"gridcolor\":\"white\",\"gridwidth\":2,\"linecolor\":\"white\",\"showbackground\":true,\"ticks\":\"\",\"zerolinecolor\":\"white\"},\"yaxis\":{\"backgroundcolor\":\"#E5ECF6\",\"gridcolor\":\"white\",\"gridwidth\":2,\"linecolor\":\"white\",\"showbackground\":true,\"ticks\":\"\",\"zerolinecolor\":\"white\"},\"zaxis\":{\"backgroundcolor\":\"#E5ECF6\",\"gridcolor\":\"white\",\"gridwidth\":2,\"linecolor\":\"white\",\"showbackground\":true,\"ticks\":\"\",\"zerolinecolor\":\"white\"}},\"shapedefaults\":{\"line\":{\"color\":\"#2a3f5f\"}},\"ternary\":{\"aaxis\":{\"gridcolor\":\"white\",\"linecolor\":\"white\",\"ticks\":\"\"},\"baxis\":{\"gridcolor\":\"white\",\"linecolor\":\"white\",\"ticks\":\"\"},\"bgcolor\":\"#E5ECF6\",\"caxis\":{\"gridcolor\":\"white\",\"linecolor\":\"white\",\"ticks\":\"\"}},\"title\":{\"x\":0.05},\"xaxis\":{\"automargin\":true,\"gridcolor\":\"white\",\"linecolor\":\"white\",\"ticks\":\"\",\"title\":{\"standoff\":15},\"zerolinecolor\":\"white\",\"zerolinewidth\":2},\"yaxis\":{\"automargin\":true,\"gridcolor\":\"white\",\"linecolor\":\"white\",\"ticks\":\"\",\"title\":{\"standoff\":15},\"zerolinecolor\":\"white\",\"zerolinewidth\":2}}}},                        {\"responsive\": true}                    ).then(function(){\n",
              "                            \n",
              "var gd = document.getElementById('d7733aeb-c8bb-4353-95d8-9493a737ff5a');\n",
              "var x = new MutationObserver(function (mutations, observer) {{\n",
              "        var display = window.getComputedStyle(gd).display;\n",
              "        if (!display || display === 'none') {{\n",
              "            console.log([gd, 'removed!']);\n",
              "            Plotly.purge(gd);\n",
              "            observer.disconnect();\n",
              "        }}\n",
              "}});\n",
              "\n",
              "// Listen for the removal of the full notebook cells\n",
              "var notebookContainer = gd.closest('#notebook-container');\n",
              "if (notebookContainer) {{\n",
              "    x.observe(notebookContainer, {childList: true});\n",
              "}}\n",
              "\n",
              "// Listen for the clearing of the current output cell\n",
              "var outputEl = gd.closest('.output');\n",
              "if (outputEl) {{\n",
              "    x.observe(outputEl, {childList: true});\n",
              "}}\n",
              "\n",
              "                        })                };                            </script>        </div>\n",
              "</body>\n",
              "</html>"
            ]
          },
          "metadata": {}
        }
      ]
    },
    {
      "cell_type": "code",
      "source": [
        "## Rialleno --> Su tutto il dataset\n",
        "pipe = Pipeline([\n",
        "    (\"sc\", StandardScaler()), # fit # mean, std\n",
        "    (\"model\", models[\"ElasticNet\"]) # trovare i parametri a0 a1 a2 \n",
        "])\n",
        "# Su tutti i dati\n",
        "pipe.fit(X,Y)\n",
        "joblib.dump(pipe, \"model_cross.pkl\")\n",
        "\n",
        "Y_hat = pipe.predict(X)\n",
        "\n",
        "x = np.linspace(start=0,stop=len(Y_hat),num=len(Y_hat))\n",
        "fig = go.Figure()\n",
        "fig.add_trace( go.Scatter( x=x, y=Y.flatten(),mode=\"markers+lines\", name=\"Y\") )\n",
        "fig.add_trace( go.Scatter( x=x, y=Y_hat.flatten(),mode=\"markers+lines\", name=\"Y_hat\") )\n",
        "fig.update_layout(title_text=\"Results\", hovermode=\"x\")\n",
        "fig.show()"
      ],
      "metadata": {
        "colab": {
          "base_uri": "https://localhost:8080/",
          "height": 542
        },
        "id": "nS_nFBKipBRb",
        "outputId": "23d70fc5-8c52-4d9f-819d-529ef9b51acc"
      },
      "execution_count": 30,
      "outputs": [
        {
          "output_type": "display_data",
          "data": {
            "text/html": [
              "<html>\n",
              "<head><meta charset=\"utf-8\" /></head>\n",
              "<body>\n",
              "    <div>            <script src=\"https://cdnjs.cloudflare.com/ajax/libs/mathjax/2.7.5/MathJax.js?config=TeX-AMS-MML_SVG\"></script><script type=\"text/javascript\">if (window.MathJax) {MathJax.Hub.Config({SVG: {font: \"STIX-Web\"}});}</script>                <script type=\"text/javascript\">window.PlotlyConfig = {MathJaxConfig: 'local'};</script>\n",
              "        <script src=\"https://cdn.plot.ly/plotly-2.8.3.min.js\"></script>                <div id=\"4001e06b-8dac-4f0a-a4b6-72cf8f0851f9\" class=\"plotly-graph-div\" style=\"height:525px; width:100%;\"></div>            <script type=\"text/javascript\">                                    window.PLOTLYENV=window.PLOTLYENV || {};                                    if (document.getElementById(\"4001e06b-8dac-4f0a-a4b6-72cf8f0851f9\")) {                    Plotly.newPlot(                        \"4001e06b-8dac-4f0a-a4b6-72cf8f0851f9\",                        [{\"mode\":\"markers+lines\",\"name\":\"Y\",\"x\":[0.0,1.0050251256281406,2.0100502512562812,3.015075376884422,4.0201005025125625,5.025125628140703,6.030150753768844,7.035175879396984,8.040201005025125,9.045226130653266,10.050251256281406,11.055276381909547,12.060301507537687,13.065326633165828,14.070351758793969,15.07537688442211,16.08040201005025,17.08542713567839,18.09045226130653,19.09547738693467,20.100502512562812,21.105527638190953,22.110552763819094,23.115577889447234,24.120603015075375,25.125628140703515,26.130653266331656,27.135678391959797,28.140703517587937,29.145728643216078,30.15075376884422,31.15577889447236,32.1608040201005,33.16582914572864,34.17085427135678,35.175879396984925,36.18090452261306,37.1859296482412,38.19095477386934,39.19597989949749,40.201005025125625,41.20603015075376,42.211055276381906,43.21608040201005,44.22110552763819,45.226130653266324,46.23115577889447,47.23618090452261,48.24120603015075,49.24623115577889,50.25125628140703,51.256281407035175,52.26130653266331,53.26633165829145,54.27135678391959,55.27638190954774,56.281407035175874,57.28643216080401,58.291457286432156,59.2964824120603,60.30150753768844,61.306532663316574,62.31155778894472,63.31658291457286,64.321608040201,65.32663316582914,66.33165829145727,67.33668341708542,68.34170854271356,69.3467336683417,70.35175879396985,71.35678391959799,72.36180904522612,73.36683417085426,74.3718592964824,75.37688442211055,76.38190954773869,77.38693467336682,78.39195979899498,79.39698492462311,80.40201005025125,81.40703517587939,82.41206030150752,83.41708542713567,84.42211055276381,85.42713567839195,86.4321608040201,87.43718592964824,88.44221105527637,89.44723618090451,90.45226130653265,91.4572864321608,92.46231155778894,93.46733668341707,94.47236180904522,95.47738693467336,96.4824120603015,97.48743718592964,98.49246231155777,99.49748743718592,100.50251256281406,101.5075376884422,102.51256281407035,103.51758793969849,104.52261306532662,105.52763819095476,106.5326633165829,107.53768844221105,108.54271356783919,109.54773869346732,110.55276381909547,111.55778894472361,112.56281407035175,113.56783919597989,114.57286432160802,115.57788944723617,116.58291457286431,117.58793969849245,118.5929648241206,119.59798994974874,120.60301507537687,121.60804020100501,122.61306532663315,123.6180904522613,124.62311557788944,125.62814070351757,126.63316582914572,127.63819095477386,128.643216080402,129.64824120603015,130.65326633165827,131.65829145728642,132.66331658291455,133.6683417085427,134.67336683417085,135.67839195979897,136.68341708542712,137.68844221105527,138.6934673366834,139.69849246231155,140.7035175879397,141.70854271356782,142.71356783919597,143.7185929648241,144.72361809045225,145.7286432160804,146.73366834170852,147.73869346733667,148.7437185929648,149.74874371859295,150.7537688442211,151.75879396984922,152.76381909547737,153.76884422110552,154.77386934673365,155.7788944723618,156.78391959798995,157.78894472361807,158.79396984924622,159.79899497487435,160.8040201005025,161.80904522613065,162.81407035175877,163.81909547738692,164.82412060301505,165.8291457286432,166.83417085427135,167.83919597989947,168.84422110552762,169.84924623115577,170.8542713567839,171.85929648241205,172.8643216080402,173.86934673366832,174.87437185929647,175.8793969849246,176.88442211055275,177.8894472361809,178.89447236180902,179.89949748743717,180.9045226130653,181.90954773869345,182.9145728643216,183.91959798994972,184.92462311557787,185.92964824120602,186.93467336683415,187.9396984924623,188.94472361809045,189.94974874371857,190.95477386934672,191.95979899497485,192.964824120603,193.96984924623115,194.97487437185927,195.97989949748742,196.98492462311555,197.9899497487437,198.99497487437185,200.0],\"y\":[1676,2634,1069,1936,2852,1775,2683,2815,918,1195,1897,2679,1655,2533,665,891,1309,2257,2097,1343,2581,2816,841,2272,2497,617,2372,1730,2762,2875,2083,706,683,2758,2014,2377,2588,1892,1546,1527,1081,1514,2524,1932,2369,2460,1840,2825,1020,1467,772,783,2708,959,1217,2380,1082,1931,2826,1082,820,2145,2323,537,1414,947,2719,1481,1794,621,1617,1917,1098,2091,1702,623,1957,2523,1916,1221,786,2534,2784,2814,2367,591,1027,1040,1356,2484,1984,1907,1039,2531,1048,2034,1798,1665,560,2416,1859,1974,535,1644,1390,648,1259,929,2268,2818,2667,579,2447,1382,653,1863,2038,2571,1421,1256,827,2248,1411,1828,2127,1363,642,1979,740,2293,608,1897,632,2795,1740,759,2398,2886,900,1313,643,1384,2885,1728,1515,2401,2701,687,625,2699,1761,2334,2642,501,1027,1630,2451,1531,923,1572,2517,2745,2169,598,578,1385,825,2791,548,1976,2471,2005,2673,2624,2697,688,1554,1909,1830,2423,726,2447,1283,2601,1495,2575,676,2514,1201,2059,2516,2161,1962,2791,1882,2412,2560,2430,2218,2916],\"type\":\"scatter\"},{\"mode\":\"markers+lines\",\"name\":\"Y_hat\",\"x\":[0.0,1.0050251256281406,2.0100502512562812,3.015075376884422,4.0201005025125625,5.025125628140703,6.030150753768844,7.035175879396984,8.040201005025125,9.045226130653266,10.050251256281406,11.055276381909547,12.060301507537687,13.065326633165828,14.070351758793969,15.07537688442211,16.08040201005025,17.08542713567839,18.09045226130653,19.09547738693467,20.100502512562812,21.105527638190953,22.110552763819094,23.115577889447234,24.120603015075375,25.125628140703515,26.130653266331656,27.135678391959797,28.140703517587937,29.145728643216078,30.15075376884422,31.15577889447236,32.1608040201005,33.16582914572864,34.17085427135678,35.175879396984925,36.18090452261306,37.1859296482412,38.19095477386934,39.19597989949749,40.201005025125625,41.20603015075376,42.211055276381906,43.21608040201005,44.22110552763819,45.226130653266324,46.23115577889447,47.23618090452261,48.24120603015075,49.24623115577889,50.25125628140703,51.256281407035175,52.26130653266331,53.26633165829145,54.27135678391959,55.27638190954774,56.281407035175874,57.28643216080401,58.291457286432156,59.2964824120603,60.30150753768844,61.306532663316574,62.31155778894472,63.31658291457286,64.321608040201,65.32663316582914,66.33165829145727,67.33668341708542,68.34170854271356,69.3467336683417,70.35175879396985,71.35678391959799,72.36180904522612,73.36683417085426,74.3718592964824,75.37688442211055,76.38190954773869,77.38693467336682,78.39195979899498,79.39698492462311,80.40201005025125,81.40703517587939,82.41206030150752,83.41708542713567,84.42211055276381,85.42713567839195,86.4321608040201,87.43718592964824,88.44221105527637,89.44723618090451,90.45226130653265,91.4572864321608,92.46231155778894,93.46733668341707,94.47236180904522,95.47738693467336,96.4824120603015,97.48743718592964,98.49246231155777,99.49748743718592,100.50251256281406,101.5075376884422,102.51256281407035,103.51758793969849,104.52261306532662,105.52763819095476,106.5326633165829,107.53768844221105,108.54271356783919,109.54773869346732,110.55276381909547,111.55778894472361,112.56281407035175,113.56783919597989,114.57286432160802,115.57788944723617,116.58291457286431,117.58793969849245,118.5929648241206,119.59798994974874,120.60301507537687,121.60804020100501,122.61306532663315,123.6180904522613,124.62311557788944,125.62814070351757,126.63316582914572,127.63819095477386,128.643216080402,129.64824120603015,130.65326633165827,131.65829145728642,132.66331658291455,133.6683417085427,134.67336683417085,135.67839195979897,136.68341708542712,137.68844221105527,138.6934673366834,139.69849246231155,140.7035175879397,141.70854271356782,142.71356783919597,143.7185929648241,144.72361809045225,145.7286432160804,146.73366834170852,147.73869346733667,148.7437185929648,149.74874371859295,150.7537688442211,151.75879396984922,152.76381909547737,153.76884422110552,154.77386934673365,155.7788944723618,156.78391959798995,157.78894472361807,158.79396984924622,159.79899497487435,160.8040201005025,161.80904522613065,162.81407035175877,163.81909547738692,164.82412060301505,165.8291457286432,166.83417085427135,167.83919597989947,168.84422110552762,169.84924623115577,170.8542713567839,171.85929648241205,172.8643216080402,173.86934673366832,174.87437185929647,175.8793969849246,176.88442211055275,177.8894472361809,178.89447236180902,179.89949748743717,180.9045226130653,181.90954773869345,182.9145728643216,183.91959798994972,184.92462311557787,185.92964824120602,186.93467336683415,187.9396984924623,188.94472361809045,189.94974874371857,190.95477386934672,191.95979899497485,192.964824120603,193.96984924623115,194.97487437185927,195.97989949748742,196.98492462311555,197.9899497487437,198.99497487437185,200.0],\"y\":[1759.9593514325882,1816.8093961296768,1773.0785925165317,1745.8744337418514,1730.445648265506,1721.0936450277356,1780.6130682088783,1757.5359813720233,1724.0090319352787,1769.5573630938475,1743.5648893494495,1770.6552224559669,1726.9244188428218,1783.5284551164214,1728.9879548117344,1781.4649191475085,1742.9590468343083,1748.7898206493942,1771.015056547619,1770.1632056089886,1760.8112023712183,1763.7265892787614,1722.5513384815072,1792.028607415561,1757.043964525045,1749.3956631645356,1784.7401401467037,1728.9879548117344,1800.168925623049,1755.2264369796214,1751.4591991334482,1727.530261357963,1722.5513384815072,1796.6476962003649,1767.7398355484238,1818.2670895834483,1724.6148744504198,1736.8822645957332,1771.015056547619,1778.9093663316175,1754.374586040991,1762.2688958249898,1775.3881369089333,1766.6419761863044,1764.3324317939025,1765.4302911560221,1791.6687733239091,1766.0361336711633,1765.4302911560221,1768.099669640076,1779.761217270248,1802.4784700154507,1722.5513384815072,1792.8804583541914,1753.76874352585,1757.043964525045,1779.761217270248,1753.76874352585,1792.8804583541914,1753.522735102361,1759.9593514325882,1785.837999508823,1784.3803060550515,1726.0725679041914,1760.2053598560772,1765.184282732533,1762.874738340131,1765.184282732533,1736.2764220805918,1762.874738340131,1813.2881667069926,1752.0650416485894,1803.084312530592,1780.367059785389,1804.5420059843634,1792.028607415561,1767.4938271249348,1771.261064971108,1770.1632056089886,1801.6266190768206,1777.451672877846,1768.705512155217,1790.5709139617898,1759.3535089174468,1747.6919612872748,1718.1782581201926,1722.5513384815072,1773.3246009400207,1760.4513682795664,1754.374586040991,1752.0650416485894,1746.2342678335033,1788.753386416366,1752.3110500720784,1750.6073481948179,1728.9879548117344,1757.2899729485341,1732.7551926579076,1778.3035238164764,1800.7747681381902,1787.6555270542467,1744.4167402880798,1769.5573630938475,1752.9168925872198,1763.3667551871092,1736.8822645957332,1765.184282732533,1729.8398057503648,1768.345678063565,1729.8398057503648,1792.2746158390503,1787.6555270542467,1729.8398057503648,1737.1282730192222,1741.5013533805368,1795.7958452617345,1796.6476962003649,1782.0707616626498,1786.1978336004752,1751.4591991334482,1742.9590468343083,1771.261064971108,1791.42276490042,1773.57060936351,1761.4170448863595,1789.3592289315072,1775.3881369089333,1763.1207467636202,1792.028607415561,1737.7341155343634,1788.753386416366,1787.0496845391056,1722.5513384815072,1770.4092140324776,1724.0090319352787,1779.761217270248,1757.5359813720233,1800.7747681381902,1789.1132205080182,1727.530261357963,1775.6341453324226,1742.107195895678,1794.943994323104,1792.2746158390503,1745.6284253183621,1733.361035173049,1719.6359515739641,1770.1632056089886,1794.338151807963,1765.790125247674,1753.522735102361,1736.2764220805918,1772.1129159097384,1756.684130433393,1789.3592289315072,1734.8187286268205,1810.3727797994495,1741.2553449570476,1757.2899729485341,1776.485996271053,1770.6552224559669,1815.3517026759052,1763.1207467636202,1800.168925623049,1761.0572107947075,1795.7958452617345,1778.5495322399656,1734.8187286268205,1769.8033715173365,1758.7476664023056,1792.8804583541914,1759.599517340936,1797.8593812306472,1758.5016579788166,1729.8398057503648,1752.3110500720784,1721.0936450277356,1786.4438420239642,1792.2746158390503,1770.6552224559669,1807.4573928919065,1765.790125247674,1791.42276490042,1786.1978336004752,1765.4302911560221,1792.2746158390503,1797.8593812306472,1762.874738340131,1813.2881667069926,1746.2342678335033,1734.2128861116792,1757.043964525045,1778.5495322399656,1747.6919612872748,1771.8669074862491,1735.6705795654507,1761.9090617333377,1779.4013831785958,1774.176451878651,1790.8169223852788],\"type\":\"scatter\"}],                        {\"template\":{\"data\":{\"bar\":[{\"error_x\":{\"color\":\"#2a3f5f\"},\"error_y\":{\"color\":\"#2a3f5f\"},\"marker\":{\"line\":{\"color\":\"#E5ECF6\",\"width\":0.5},\"pattern\":{\"fillmode\":\"overlay\",\"size\":10,\"solidity\":0.2}},\"type\":\"bar\"}],\"barpolar\":[{\"marker\":{\"line\":{\"color\":\"#E5ECF6\",\"width\":0.5},\"pattern\":{\"fillmode\":\"overlay\",\"size\":10,\"solidity\":0.2}},\"type\":\"barpolar\"}],\"carpet\":[{\"aaxis\":{\"endlinecolor\":\"#2a3f5f\",\"gridcolor\":\"white\",\"linecolor\":\"white\",\"minorgridcolor\":\"white\",\"startlinecolor\":\"#2a3f5f\"},\"baxis\":{\"endlinecolor\":\"#2a3f5f\",\"gridcolor\":\"white\",\"linecolor\":\"white\",\"minorgridcolor\":\"white\",\"startlinecolor\":\"#2a3f5f\"},\"type\":\"carpet\"}],\"choropleth\":[{\"colorbar\":{\"outlinewidth\":0,\"ticks\":\"\"},\"type\":\"choropleth\"}],\"contour\":[{\"colorbar\":{\"outlinewidth\":0,\"ticks\":\"\"},\"colorscale\":[[0.0,\"#0d0887\"],[0.1111111111111111,\"#46039f\"],[0.2222222222222222,\"#7201a8\"],[0.3333333333333333,\"#9c179e\"],[0.4444444444444444,\"#bd3786\"],[0.5555555555555556,\"#d8576b\"],[0.6666666666666666,\"#ed7953\"],[0.7777777777777778,\"#fb9f3a\"],[0.8888888888888888,\"#fdca26\"],[1.0,\"#f0f921\"]],\"type\":\"contour\"}],\"contourcarpet\":[{\"colorbar\":{\"outlinewidth\":0,\"ticks\":\"\"},\"type\":\"contourcarpet\"}],\"heatmap\":[{\"colorbar\":{\"outlinewidth\":0,\"ticks\":\"\"},\"colorscale\":[[0.0,\"#0d0887\"],[0.1111111111111111,\"#46039f\"],[0.2222222222222222,\"#7201a8\"],[0.3333333333333333,\"#9c179e\"],[0.4444444444444444,\"#bd3786\"],[0.5555555555555556,\"#d8576b\"],[0.6666666666666666,\"#ed7953\"],[0.7777777777777778,\"#fb9f3a\"],[0.8888888888888888,\"#fdca26\"],[1.0,\"#f0f921\"]],\"type\":\"heatmap\"}],\"heatmapgl\":[{\"colorbar\":{\"outlinewidth\":0,\"ticks\":\"\"},\"colorscale\":[[0.0,\"#0d0887\"],[0.1111111111111111,\"#46039f\"],[0.2222222222222222,\"#7201a8\"],[0.3333333333333333,\"#9c179e\"],[0.4444444444444444,\"#bd3786\"],[0.5555555555555556,\"#d8576b\"],[0.6666666666666666,\"#ed7953\"],[0.7777777777777778,\"#fb9f3a\"],[0.8888888888888888,\"#fdca26\"],[1.0,\"#f0f921\"]],\"type\":\"heatmapgl\"}],\"histogram\":[{\"marker\":{\"pattern\":{\"fillmode\":\"overlay\",\"size\":10,\"solidity\":0.2}},\"type\":\"histogram\"}],\"histogram2d\":[{\"colorbar\":{\"outlinewidth\":0,\"ticks\":\"\"},\"colorscale\":[[0.0,\"#0d0887\"],[0.1111111111111111,\"#46039f\"],[0.2222222222222222,\"#7201a8\"],[0.3333333333333333,\"#9c179e\"],[0.4444444444444444,\"#bd3786\"],[0.5555555555555556,\"#d8576b\"],[0.6666666666666666,\"#ed7953\"],[0.7777777777777778,\"#fb9f3a\"],[0.8888888888888888,\"#fdca26\"],[1.0,\"#f0f921\"]],\"type\":\"histogram2d\"}],\"histogram2dcontour\":[{\"colorbar\":{\"outlinewidth\":0,\"ticks\":\"\"},\"colorscale\":[[0.0,\"#0d0887\"],[0.1111111111111111,\"#46039f\"],[0.2222222222222222,\"#7201a8\"],[0.3333333333333333,\"#9c179e\"],[0.4444444444444444,\"#bd3786\"],[0.5555555555555556,\"#d8576b\"],[0.6666666666666666,\"#ed7953\"],[0.7777777777777778,\"#fb9f3a\"],[0.8888888888888888,\"#fdca26\"],[1.0,\"#f0f921\"]],\"type\":\"histogram2dcontour\"}],\"mesh3d\":[{\"colorbar\":{\"outlinewidth\":0,\"ticks\":\"\"},\"type\":\"mesh3d\"}],\"parcoords\":[{\"line\":{\"colorbar\":{\"outlinewidth\":0,\"ticks\":\"\"}},\"type\":\"parcoords\"}],\"pie\":[{\"automargin\":true,\"type\":\"pie\"}],\"scatter\":[{\"marker\":{\"colorbar\":{\"outlinewidth\":0,\"ticks\":\"\"}},\"type\":\"scatter\"}],\"scatter3d\":[{\"line\":{\"colorbar\":{\"outlinewidth\":0,\"ticks\":\"\"}},\"marker\":{\"colorbar\":{\"outlinewidth\":0,\"ticks\":\"\"}},\"type\":\"scatter3d\"}],\"scattercarpet\":[{\"marker\":{\"colorbar\":{\"outlinewidth\":0,\"ticks\":\"\"}},\"type\":\"scattercarpet\"}],\"scattergeo\":[{\"marker\":{\"colorbar\":{\"outlinewidth\":0,\"ticks\":\"\"}},\"type\":\"scattergeo\"}],\"scattergl\":[{\"marker\":{\"colorbar\":{\"outlinewidth\":0,\"ticks\":\"\"}},\"type\":\"scattergl\"}],\"scattermapbox\":[{\"marker\":{\"colorbar\":{\"outlinewidth\":0,\"ticks\":\"\"}},\"type\":\"scattermapbox\"}],\"scatterpolar\":[{\"marker\":{\"colorbar\":{\"outlinewidth\":0,\"ticks\":\"\"}},\"type\":\"scatterpolar\"}],\"scatterpolargl\":[{\"marker\":{\"colorbar\":{\"outlinewidth\":0,\"ticks\":\"\"}},\"type\":\"scatterpolargl\"}],\"scatterternary\":[{\"marker\":{\"colorbar\":{\"outlinewidth\":0,\"ticks\":\"\"}},\"type\":\"scatterternary\"}],\"surface\":[{\"colorbar\":{\"outlinewidth\":0,\"ticks\":\"\"},\"colorscale\":[[0.0,\"#0d0887\"],[0.1111111111111111,\"#46039f\"],[0.2222222222222222,\"#7201a8\"],[0.3333333333333333,\"#9c179e\"],[0.4444444444444444,\"#bd3786\"],[0.5555555555555556,\"#d8576b\"],[0.6666666666666666,\"#ed7953\"],[0.7777777777777778,\"#fb9f3a\"],[0.8888888888888888,\"#fdca26\"],[1.0,\"#f0f921\"]],\"type\":\"surface\"}],\"table\":[{\"cells\":{\"fill\":{\"color\":\"#EBF0F8\"},\"line\":{\"color\":\"white\"}},\"header\":{\"fill\":{\"color\":\"#C8D4E3\"},\"line\":{\"color\":\"white\"}},\"type\":\"table\"}]},\"layout\":{\"annotationdefaults\":{\"arrowcolor\":\"#2a3f5f\",\"arrowhead\":0,\"arrowwidth\":1},\"autotypenumbers\":\"strict\",\"coloraxis\":{\"colorbar\":{\"outlinewidth\":0,\"ticks\":\"\"}},\"colorscale\":{\"diverging\":[[0,\"#8e0152\"],[0.1,\"#c51b7d\"],[0.2,\"#de77ae\"],[0.3,\"#f1b6da\"],[0.4,\"#fde0ef\"],[0.5,\"#f7f7f7\"],[0.6,\"#e6f5d0\"],[0.7,\"#b8e186\"],[0.8,\"#7fbc41\"],[0.9,\"#4d9221\"],[1,\"#276419\"]],\"sequential\":[[0.0,\"#0d0887\"],[0.1111111111111111,\"#46039f\"],[0.2222222222222222,\"#7201a8\"],[0.3333333333333333,\"#9c179e\"],[0.4444444444444444,\"#bd3786\"],[0.5555555555555556,\"#d8576b\"],[0.6666666666666666,\"#ed7953\"],[0.7777777777777778,\"#fb9f3a\"],[0.8888888888888888,\"#fdca26\"],[1.0,\"#f0f921\"]],\"sequentialminus\":[[0.0,\"#0d0887\"],[0.1111111111111111,\"#46039f\"],[0.2222222222222222,\"#7201a8\"],[0.3333333333333333,\"#9c179e\"],[0.4444444444444444,\"#bd3786\"],[0.5555555555555556,\"#d8576b\"],[0.6666666666666666,\"#ed7953\"],[0.7777777777777778,\"#fb9f3a\"],[0.8888888888888888,\"#fdca26\"],[1.0,\"#f0f921\"]]},\"colorway\":[\"#636efa\",\"#EF553B\",\"#00cc96\",\"#ab63fa\",\"#FFA15A\",\"#19d3f3\",\"#FF6692\",\"#B6E880\",\"#FF97FF\",\"#FECB52\"],\"font\":{\"color\":\"#2a3f5f\"},\"geo\":{\"bgcolor\":\"white\",\"lakecolor\":\"white\",\"landcolor\":\"#E5ECF6\",\"showlakes\":true,\"showland\":true,\"subunitcolor\":\"white\"},\"hoverlabel\":{\"align\":\"left\"},\"hovermode\":\"closest\",\"mapbox\":{\"style\":\"light\"},\"paper_bgcolor\":\"white\",\"plot_bgcolor\":\"#E5ECF6\",\"polar\":{\"angularaxis\":{\"gridcolor\":\"white\",\"linecolor\":\"white\",\"ticks\":\"\"},\"bgcolor\":\"#E5ECF6\",\"radialaxis\":{\"gridcolor\":\"white\",\"linecolor\":\"white\",\"ticks\":\"\"}},\"scene\":{\"xaxis\":{\"backgroundcolor\":\"#E5ECF6\",\"gridcolor\":\"white\",\"gridwidth\":2,\"linecolor\":\"white\",\"showbackground\":true,\"ticks\":\"\",\"zerolinecolor\":\"white\"},\"yaxis\":{\"backgroundcolor\":\"#E5ECF6\",\"gridcolor\":\"white\",\"gridwidth\":2,\"linecolor\":\"white\",\"showbackground\":true,\"ticks\":\"\",\"zerolinecolor\":\"white\"},\"zaxis\":{\"backgroundcolor\":\"#E5ECF6\",\"gridcolor\":\"white\",\"gridwidth\":2,\"linecolor\":\"white\",\"showbackground\":true,\"ticks\":\"\",\"zerolinecolor\":\"white\"}},\"shapedefaults\":{\"line\":{\"color\":\"#2a3f5f\"}},\"ternary\":{\"aaxis\":{\"gridcolor\":\"white\",\"linecolor\":\"white\",\"ticks\":\"\"},\"baxis\":{\"gridcolor\":\"white\",\"linecolor\":\"white\",\"ticks\":\"\"},\"bgcolor\":\"#E5ECF6\",\"caxis\":{\"gridcolor\":\"white\",\"linecolor\":\"white\",\"ticks\":\"\"}},\"title\":{\"x\":0.05},\"xaxis\":{\"automargin\":true,\"gridcolor\":\"white\",\"linecolor\":\"white\",\"ticks\":\"\",\"title\":{\"standoff\":15},\"zerolinecolor\":\"white\",\"zerolinewidth\":2},\"yaxis\":{\"automargin\":true,\"gridcolor\":\"white\",\"linecolor\":\"white\",\"ticks\":\"\",\"title\":{\"standoff\":15},\"zerolinecolor\":\"white\",\"zerolinewidth\":2}}},\"title\":{\"text\":\"Results\"},\"hovermode\":\"x\"},                        {\"responsive\": true}                    ).then(function(){\n",
              "                            \n",
              "var gd = document.getElementById('4001e06b-8dac-4f0a-a4b6-72cf8f0851f9');\n",
              "var x = new MutationObserver(function (mutations, observer) {{\n",
              "        var display = window.getComputedStyle(gd).display;\n",
              "        if (!display || display === 'none') {{\n",
              "            console.log([gd, 'removed!']);\n",
              "            Plotly.purge(gd);\n",
              "            observer.disconnect();\n",
              "        }}\n",
              "}});\n",
              "\n",
              "// Listen for the removal of the full notebook cells\n",
              "var notebookContainer = gd.closest('#notebook-container');\n",
              "if (notebookContainer) {{\n",
              "    x.observe(notebookContainer, {childList: true});\n",
              "}}\n",
              "\n",
              "// Listen for the clearing of the current output cell\n",
              "var outputEl = gd.closest('.output');\n",
              "if (outputEl) {{\n",
              "    x.observe(outputEl, {childList: true});\n",
              "}}\n",
              "\n",
              "                        })                };                            </script>        </div>\n",
              "</body>\n",
              "</html>"
            ]
          },
          "metadata": {}
        }
      ]
    },
    {
      "cell_type": "markdown",
      "source": [
        "## Deploy"
      ],
      "metadata": {
        "id": "sBTefImjprpk"
      }
    },
    {
      "cell_type": "code",
      "source": [
        "m =joblib.load(\"model_cross.pkl\")\n",
        "#m =joblib.load(\"model_fast.pkl\")\n",
        "Y_hat = m.predict(X)\n"
      ],
      "metadata": {
        "id": "fggGlrKdpTuW"
      },
      "execution_count": 31,
      "outputs": []
    },
    {
      "cell_type": "code",
      "source": [
        ""
      ],
      "metadata": {
        "id": "z3bZPht1p1hC"
      },
      "execution_count": null,
      "outputs": []
    }
  ]
}